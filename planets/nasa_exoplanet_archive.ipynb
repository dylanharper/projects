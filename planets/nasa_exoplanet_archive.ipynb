{
 "cells": [
  {
   "cell_type": "code",
   "execution_count": 6,
   "metadata": {},
   "outputs": [],
   "source": [
    "from google.cloud import storage\n",
    "import json\n",
    "from dateutil.parser import parse\n",
    "import csv\n",
    "import io\n",
    "import pandas as pd"
   ]
  },
  {
   "cell_type": "code",
   "execution_count": 7,
   "metadata": {},
   "outputs": [],
   "source": [
    "def get_most_recent_raw_file(prefix: str) -> str:\n",
    "    storage_client = storage.Client()\n",
    "    bucket = storage_client.bucket('dotufp-raw')\n",
    "    \n",
    "    blobs = bucket.list_blobs(prefix=prefix)\n",
    "    \n",
    "    most_recent_blob = None\n",
    "    for most_recent_blob in blobs:\n",
    "        pass\n",
    "    \n",
    "    return most_recent_blob.download_as_string()"
   ]
  },
  {
   "cell_type": "code",
   "execution_count": 8,
   "metadata": {},
   "outputs": [
    {
     "name": "stderr",
     "output_type": "stream",
     "text": [
      "/home/dylan/anaconda3/lib/python3.7/site-packages/google/auth/_default.py:69: UserWarning: Your application has authenticated using end user credentials from Google Cloud SDK. We recommend that most server applications use service accounts instead. If your application continues to use end user credentials from Cloud SDK, you might receive a \"quota exceeded\" or \"API not enabled\" error. For more information about service accounts, see https://cloud.google.com/docs/authentication/\n",
      "  warnings.warn(_CLOUD_SDK_CREDENTIALS_WARNING)\n",
      "/home/dylan/anaconda3/lib/python3.7/site-packages/google/auth/_default.py:69: UserWarning: Your application has authenticated using end user credentials from Google Cloud SDK. We recommend that most server applications use service accounts instead. If your application continues to use end user credentials from Cloud SDK, you might receive a \"quota exceeded\" or \"API not enabled\" error. For more information about service accounts, see https://cloud.google.com/docs/authentication/\n",
      "  warnings.warn(_CLOUD_SDK_CREDENTIALS_WARNING)\n"
     ]
    },
    {
     "data": {
      "text/plain": [
       "b'pl_hostname,ra,dec\\nHD 142022 A,242.562592,-84.231613\\nHD 39091,84.291214,-80.469124\\nHD 39091,84.291214,-80.469124\\nHD 137388,233.916367,-80.204590\\nGJ 3021,4.052823,-79.851181\\nHD 63454,114.841049,-78.278969\\nHD 212301,336.878845,-77.717926\\nHD 97048,167.013824,-77.654854\\nCHXR 73,166.619893,-77.625877\\nHD 221420,353.331604,-77.385330\\nCT Cha,166.037877,-76.455383\\nHD 2685,7.328958,-76.304061\\nHD 196067,310.433716,-75.350800\\nHD 68402,121.348717,-74.410416\\nHD 38283,84.258408,-73.699341\\nTOI 150,112.965667,-73.606153\\nHD 131664,225.025314,-73.535339\\nHD 20003,46.907997,-72.321892\\nHD 20003,46.907997,-72.321892\\nTOI 163,79.767917,-71.895528\\nHD 108341,186.880798,-71.422974\\nHD 222076,354.533112,-70.903358\\nHD 100546,173.356003,-70.194786\\nWASP-91,357.845367,-70.152832\\nHD 216437,343.664520,-70.073708\\nHD 24085,56.256458,-70.024101\\nHD 175167,285.003479,-69.944244\\nWASP-126,63.373865,-69.226807\\nDS Tuc A,354.914490,-69.195747\\nLHS 3844,340.492104,-69.168986\\nHD 129445,221.512772,-68.762749\\nHD 95086,164.262589,-68.66'"
      ]
     },
     "execution_count": 8,
     "metadata": {},
     "output_type": "execute_result"
    }
   ],
   "source": [
    "raw_str = get_most_recent_raw_file('web_scrape/planets_data_nasa/')\n",
    "\n",
    "raw_str[:1000]"
   ]
  },
  {
   "cell_type": "code",
   "execution_count": 9,
   "metadata": {},
   "outputs": [
    {
     "data": {
      "text/plain": [
       "4099"
      ]
     },
     "execution_count": 9,
     "metadata": {},
     "output_type": "execute_result"
    }
   ],
   "source": [
    "planets_data = pd.read_csv(io.BytesIO(raw_str))\n",
    "num_planets = planets_data.shape[0]\n",
    "\n",
    "num_planets"
   ]
  },
  {
   "cell_type": "code",
   "execution_count": null,
   "metadata": {},
   "outputs": [],
   "source": []
  }
 ],
 "metadata": {
  "kernelspec": {
   "display_name": "Python 3",
   "language": "python",
   "name": "python3"
  },
  "language_info": {
   "codemirror_mode": {
    "name": "ipython",
    "version": 3
   },
   "file_extension": ".py",
   "mimetype": "text/x-python",
   "name": "python",
   "nbconvert_exporter": "python",
   "pygments_lexer": "ipython3",
   "version": "3.7.0"
  }
 },
 "nbformat": 4,
 "nbformat_minor": 4
}
