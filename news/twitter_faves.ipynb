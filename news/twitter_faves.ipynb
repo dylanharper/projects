{
 "cells": [
  {
   "cell_type": "code",
   "execution_count": 27,
   "metadata": {},
   "outputs": [],
   "source": [
    "from google.cloud import storage\n",
    "import json\n",
    "from dateutil.parser import parse"
   ]
  },
  {
   "cell_type": "code",
   "execution_count": 24,
   "metadata": {},
   "outputs": [
    {
     "name": "stderr",
     "output_type": "stream",
     "text": [
      "/home/dylan/anaconda3/lib/python3.7/site-packages/google/auth/_default.py:69: UserWarning: Your application has authenticated using end user credentials from Google Cloud SDK. We recommend that most server applications use service accounts instead. If your application continues to use end user credentials from Cloud SDK, you might receive a \"quota exceeded\" or \"API not enabled\" error. For more information about service accounts, see https://cloud.google.com/docs/authentication/\n",
      "  warnings.warn(_CLOUD_SDK_CREDENTIALS_WARNING)\n",
      "/home/dylan/anaconda3/lib/python3.7/site-packages/google/auth/_default.py:69: UserWarning: Your application has authenticated using end user credentials from Google Cloud SDK. We recommend that most server applications use service accounts instead. If your application continues to use end user credentials from Cloud SDK, you might receive a \"quota exceeded\" or \"API not enabled\" error. For more information about service accounts, see https://cloud.google.com/docs/authentication/\n",
      "  warnings.warn(_CLOUD_SDK_CREDENTIALS_WARNING)\n"
     ]
    },
    {
     "data": {
      "text/plain": [
       "b'[{\"created_at\":\"Tue Nov 26 17:42:35 +0000 2019\",\"id\":1199382960186830850,\"id_str\":\"1199382960186830850\",\"text\":\"When you\\\\u2019re building ideas of your own and not just following one dogma or another, it can take a while to arrive w\\\\u2026 https:\\\\/\\\\/t.co\\\\/Z3gfxJs59f\",\"truncated\":true,\"entities\":{\"hashtags\":[],\"symbols\":[],\"user_mentions\":[],\"urls\":[{\"url\":\"https:\\\\/\\\\/t.co\\\\/Z3gfxJs59f\",\"expanded_url\":\"https:\\\\/\\\\/twitter.com\\\\/i\\\\/web\\\\/status\\\\/1199382960186830850\",\"display_url\":\"twitter.com\\\\/i\\\\/web\\\\/status\\\\/1\\\\u2026\",\"indices\":[117,140]}]},\"source\":\"\\\\u003ca href=\\\\\"http:\\\\/\\\\/twitter.com\\\\/download\\\\/iphone\\\\\" rel=\\\\\"nofollow\\\\\"\\\\u003eTwitter for iPhone\\\\u003c\\\\/a\\\\u003e\",\"in_reply_to_status_id\":1199381812616843265,\"in_reply_to_status_id_str\":\"1199381812616843265\",\"in_reply_to_user_id\":47063142,\"in_reply_to_user_id_str\":\"47063142\",\"in_reply_to_screen_name\":\"whstancil\",\"user\":{\"id\":47063142,\"id_str\":\"47063142\",\"name\":\"Will Stancil\",\"screen_name\":\"whstancil\",\"location\":\"Minneapolis, Minnesota\",\"description\"'"
      ]
     },
     "execution_count": 24,
     "metadata": {},
     "output_type": "execute_result"
    }
   ],
   "source": [
    "storage_client = storage.Client()\n",
    "bucket = storage_client.bucket('dotufp-raw')\n",
    "blob_name = 'twitter_faves/dotufp/2019-11-26T18:00:03Z.raw'\n",
    "collected_timestamp = '2019-11-26T18:00:03Z'\n",
    "blob = bucket.blob(blob_name)\n",
    "raw_str = blob.download_as_string()\n",
    "\n",
    "raw_str[:1000]"
   ]
  },
  {
   "cell_type": "code",
   "execution_count": 11,
   "metadata": {},
   "outputs": [
    {
     "data": {
      "text/plain": [
       "(100,\n",
       " dict_keys(['created_at', 'id', 'id_str', 'text', 'truncated', 'entities', 'source', 'in_reply_to_status_id', 'in_reply_to_status_id_str', 'in_reply_to_user_id', 'in_reply_to_user_id_str', 'in_reply_to_screen_name', 'user', 'geo', 'coordinates', 'place', 'contributors', 'is_quote_status', 'quoted_status_id', 'quoted_status_id_str', 'quoted_status', 'retweet_count', 'favorite_count', 'favorited', 'retweeted', 'possibly_sensitive', 'lang']))"
      ]
     },
     "execution_count": 11,
     "metadata": {},
     "output_type": "execute_result"
    }
   ],
   "source": [
    "raw_json = json.loads(raw_str)\n",
    "\n",
    "len(raw_json), raw_json[0].keys()"
   ]
  },
  {
   "cell_type": "code",
   "execution_count": 22,
   "metadata": {
    "collapsed": true,
    "jupyter": {
     "outputs_hidden": true
    }
   },
   "outputs": [
    {
     "data": {
      "text/plain": [
       "{'created_at': 'Tue Nov 26 17:38:02 +0000 2019',\n",
       " 'id': 1199381812616843265,\n",
       " 'id_str': '1199381812616843265',\n",
       " 'text': 'Warren took the things she learned in her career and turned them into policy proposals that have been the bête noir… https://t.co/NmPIbatHzy',\n",
       " 'truncated': True,\n",
       " 'entities': {'hashtags': [],\n",
       "  'symbols': [],\n",
       "  'user_mentions': [],\n",
       "  'urls': [{'url': 'https://t.co/NmPIbatHzy',\n",
       "    'expanded_url': 'https://twitter.com/i/web/status/1199381812616843265',\n",
       "    'display_url': 'twitter.com/i/web/status/1…',\n",
       "    'indices': [117, 140]}]},\n",
       " 'source': '<a href=\"http://twitter.com/download/iphone\" rel=\"nofollow\">Twitter for iPhone</a>',\n",
       " 'in_reply_to_status_id': 1199379279961886720,\n",
       " 'in_reply_to_status_id_str': '1199379279961886720',\n",
       " 'in_reply_to_user_id': 47063142,\n",
       " 'in_reply_to_user_id_str': '47063142',\n",
       " 'in_reply_to_screen_name': 'whstancil',\n",
       " 'user': {'id': 47063142,\n",
       "  'id_str': '47063142',\n",
       "  'name': 'Will Stancil',\n",
       "  'screen_name': 'whstancil',\n",
       "  'location': 'Minneapolis, Minnesota',\n",
       "  'description': \"I'm a lawyer and researcher. I do metropolitan policy research, with a focus on fair housing, school integration, and demography. Opinions are very much my own.\",\n",
       "  'url': None,\n",
       "  'entities': {'description': {'urls': []}},\n",
       "  'protected': False,\n",
       "  'followers_count': 7553,\n",
       "  'friends_count': 353,\n",
       "  'listed_count': 139,\n",
       "  'created_at': 'Sun Jun 14 09:07:42 +0000 2009',\n",
       "  'favourites_count': 4610,\n",
       "  'utc_offset': None,\n",
       "  'time_zone': None,\n",
       "  'geo_enabled': True,\n",
       "  'verified': False,\n",
       "  'statuses_count': 33027,\n",
       "  'lang': None,\n",
       "  'contributors_enabled': False,\n",
       "  'is_translator': False,\n",
       "  'is_translation_enabled': False,\n",
       "  'profile_background_color': 'C0DEED',\n",
       "  'profile_background_image_url': 'http://abs.twimg.com/images/themes/theme1/bg.png',\n",
       "  'profile_background_image_url_https': 'https://abs.twimg.com/images/themes/theme1/bg.png',\n",
       "  'profile_background_tile': False,\n",
       "  'profile_image_url': 'http://pbs.twimg.com/profile_images/995395980764819456/CMjETITO_normal.jpg',\n",
       "  'profile_image_url_https': 'https://pbs.twimg.com/profile_images/995395980764819456/CMjETITO_normal.jpg',\n",
       "  'profile_banner_url': 'https://pbs.twimg.com/profile_banners/47063142/1545205948',\n",
       "  'profile_link_color': '1DA1F2',\n",
       "  'profile_sidebar_border_color': 'C0DEED',\n",
       "  'profile_sidebar_fill_color': 'DDEEF6',\n",
       "  'profile_text_color': '333333',\n",
       "  'profile_use_background_image': True,\n",
       "  'has_extended_profile': False,\n",
       "  'default_profile': True,\n",
       "  'default_profile_image': False,\n",
       "  'can_media_tag': None,\n",
       "  'followed_by': None,\n",
       "  'following': None,\n",
       "  'follow_request_sent': None,\n",
       "  'notifications': None,\n",
       "  'translator_type': 'none'},\n",
       " 'geo': None,\n",
       " 'coordinates': None,\n",
       " 'place': None,\n",
       " 'contributors': None,\n",
       " 'is_quote_status': True,\n",
       " 'quoted_status_id': 1199380442241228802,\n",
       " 'quoted_status_id_str': '1199380442241228802',\n",
       " 'quoted_status': {'created_at': 'Tue Nov 26 17:32:35 +0000 2019',\n",
       "  'id': 1199380442241228802,\n",
       "  'id_str': '1199380442241228802',\n",
       "  'text': '@whstancil I agree that Booker, Buttigieg, &amp; Harris are much friendlier to corporate interests than Warren. But do… https://t.co/EYbTCGUFXp',\n",
       "  'truncated': True,\n",
       "  'entities': {'hashtags': [],\n",
       "   'symbols': [],\n",
       "   'user_mentions': [{'screen_name': 'whstancil',\n",
       "     'name': 'Will Stancil',\n",
       "     'id': 47063142,\n",
       "     'id_str': '47063142',\n",
       "     'indices': [0, 10]}],\n",
       "   'urls': [{'url': 'https://t.co/EYbTCGUFXp',\n",
       "     'expanded_url': 'https://twitter.com/i/web/status/1199380442241228802',\n",
       "     'display_url': 'twitter.com/i/web/status/1…',\n",
       "     'indices': [120, 143]}]},\n",
       "  'source': '<a href=\"http://twitter.com/download/iphone\" rel=\"nofollow\">Twitter for iPhone</a>',\n",
       "  'in_reply_to_status_id': 1199378943603879936,\n",
       "  'in_reply_to_status_id_str': '1199378943603879936',\n",
       "  'in_reply_to_user_id': 47063142,\n",
       "  'in_reply_to_user_id_str': '47063142',\n",
       "  'in_reply_to_screen_name': 'whstancil',\n",
       "  'user': {'id': 1134899032348712960,\n",
       "   'id_str': '1134899032348712960',\n",
       "   'name': '29 U.S.C. § 157',\n",
       "   'screen_name': 'OrganizingPower',\n",
       "   'location': '',\n",
       "   'description': 'tweeting about law and politics',\n",
       "   'url': None,\n",
       "   'entities': {'description': {'urls': []}},\n",
       "   'protected': False,\n",
       "   'followers_count': 1384,\n",
       "   'friends_count': 1094,\n",
       "   'listed_count': 3,\n",
       "   'created_at': 'Sat Jun 01 19:06:29 +0000 2019',\n",
       "   'favourites_count': 21396,\n",
       "   'utc_offset': None,\n",
       "   'time_zone': None,\n",
       "   'geo_enabled': False,\n",
       "   'verified': False,\n",
       "   'statuses_count': 14231,\n",
       "   'lang': None,\n",
       "   'contributors_enabled': False,\n",
       "   'is_translator': False,\n",
       "   'is_translation_enabled': False,\n",
       "   'profile_background_color': 'F5F8FA',\n",
       "   'profile_background_image_url': None,\n",
       "   'profile_background_image_url_https': None,\n",
       "   'profile_background_tile': False,\n",
       "   'profile_image_url': 'http://pbs.twimg.com/profile_images/1194834726424633346/4y8Alfi4_normal.jpg',\n",
       "   'profile_image_url_https': 'https://pbs.twimg.com/profile_images/1194834726424633346/4y8Alfi4_normal.jpg',\n",
       "   'profile_banner_url': 'https://pbs.twimg.com/profile_banners/1134899032348712960/1573705847',\n",
       "   'profile_link_color': '1DA1F2',\n",
       "   'profile_sidebar_border_color': 'C0DEED',\n",
       "   'profile_sidebar_fill_color': 'DDEEF6',\n",
       "   'profile_text_color': '333333',\n",
       "   'profile_use_background_image': True,\n",
       "   'has_extended_profile': True,\n",
       "   'default_profile': True,\n",
       "   'default_profile_image': False,\n",
       "   'can_media_tag': None,\n",
       "   'followed_by': None,\n",
       "   'following': None,\n",
       "   'follow_request_sent': None,\n",
       "   'notifications': None,\n",
       "   'translator_type': 'none'},\n",
       "  'geo': None,\n",
       "  'coordinates': None,\n",
       "  'place': None,\n",
       "  'contributors': None,\n",
       "  'is_quote_status': False,\n",
       "  'retweet_count': 0,\n",
       "  'favorite_count': 1,\n",
       "  'favorited': False,\n",
       "  'retweeted': False,\n",
       "  'lang': 'en'},\n",
       " 'retweet_count': 3,\n",
       " 'favorite_count': 20,\n",
       " 'favorited': False,\n",
       " 'retweeted': False,\n",
       " 'possibly_sensitive': False,\n",
       " 'lang': 'en'}"
      ]
     },
     "execution_count": 22,
     "metadata": {},
     "output_type": "execute_result"
    }
   ],
   "source": [
    "raw_json[1]"
   ]
  },
  {
   "cell_type": "code",
   "execution_count": 41,
   "metadata": {},
   "outputs": [
    {
     "name": "stdout",
     "output_type": "stream",
     "text": [
      "{'collected_timestamp': '2019-11-26T18:00:03Z', 'text': 'When you’re building ideas of your own and not just following one dogma or another, it can take a while to arrive w… https://t.co/Z3gfxJs59f', 'id': 1199382960186830850, 'created_at': '2019-11-26T17:42:35Z', 'user_id': 47063142, 'user_screen_name': 'whstancil', 'user_followers_count': 7553, 'retweet_count': 1, 'favorite_count': 5}\n",
      "{'collected_timestamp': '2019-11-26T18:00:03Z', 'text': 'When you’re building ideas of your own and not just following one dogma or another, it can take a while to arrive w… https://t.co/Z3gfxJs59f', 'id': 1199381812616843265, 'created_at': '2019-11-26T17:38:02Z', 'user_id': 47063142, 'user_screen_name': 'whstancil', 'user_followers_count': 7553, 'retweet_count': 3, 'favorite_count': 20}\n",
      "{'collected_timestamp': '2019-11-26T18:00:03Z', 'text': 'When you’re building ideas of your own and not just following one dogma or another, it can take a while to arrive w… https://t.co/Z3gfxJs59f', 'id': 1199329277197598722, 'created_at': '2019-11-26T14:09:16Z', 'user_id': 985782002, 'user_screen_name': 'pant_leg', 'user_followers_count': 63748, 'retweet_count': 0, 'favorite_count': 31}\n",
      "{'collected_timestamp': '2019-11-26T18:00:03Z', 'text': 'When you’re building ideas of your own and not just following one dogma or another, it can take a while to arrive w… https://t.co/Z3gfxJs59f', 'id': 1199324470403567616, 'created_at': '2019-11-26T13:50:10Z', 'user_id': 1639541946, 'user_screen_name': 'Rachel_Sennott', 'user_followers_count': 57787, 'retweet_count': 32, 'favorite_count': 429}\n",
      "{'collected_timestamp': '2019-11-26T18:00:03Z', 'text': 'When you’re building ideas of your own and not just following one dogma or another, it can take a while to arrive w… https://t.co/Z3gfxJs59f', 'id': 1199301048164372480, 'created_at': '2019-11-26T12:17:06Z', 'user_id': 15446531, 'user_screen_name': 'mattyglesias', 'user_followers_count': 441391, 'retweet_count': 90, 'favorite_count': 679}\n",
      "{'collected_timestamp': '2019-11-26T18:00:03Z', 'text': 'When you’re building ideas of your own and not just following one dogma or another, it can take a while to arrive w… https://t.co/Z3gfxJs59f', 'id': 1199290612551471104, 'created_at': '2019-11-26T11:35:38Z', 'user_id': 15446531, 'user_screen_name': 'mattyglesias', 'user_followers_count': 441391, 'retweet_count': 108, 'favorite_count': 1600}\n",
      "{'collected_timestamp': '2019-11-26T18:00:03Z', 'text': 'When you’re building ideas of your own and not just following one dogma or another, it can take a while to arrive w… https://t.co/Z3gfxJs59f', 'id': 1199179176718278656, 'created_at': '2019-11-26T04:12:50Z', 'user_id': 560690469, 'user_screen_name': 'alexandertperry', 'user_followers_count': 1745, 'retweet_count': 0, 'favorite_count': 110}\n",
      "{'collected_timestamp': '2019-11-26T18:00:03Z', 'text': 'When you’re building ideas of your own and not just following one dogma or another, it can take a while to arrive w… https://t.co/Z3gfxJs59f', 'id': 1199176620218691585, 'created_at': '2019-11-26T04:02:40Z', 'user_id': 1639541946, 'user_screen_name': 'Rachel_Sennott', 'user_followers_count': 57787, 'retweet_count': 307, 'favorite_count': 1325}\n",
      "{'collected_timestamp': '2019-11-26T18:00:03Z', 'text': 'When you’re building ideas of your own and not just following one dogma or another, it can take a while to arrive w… https://t.co/Z3gfxJs59f', 'id': 1199172544298831872, 'created_at': '2019-11-26T03:46:28Z', 'user_id': 15440889, 'user_screen_name': 'BenjaminAhr', 'user_followers_count': 9392, 'retweet_count': 14, 'favorite_count': 186}\n",
      "{'collected_timestamp': '2019-11-26T18:00:03Z', 'text': 'When you’re building ideas of your own and not just following one dogma or another, it can take a while to arrive w… https://t.co/Z3gfxJs59f', 'id': 1199161808432570368, 'created_at': '2019-11-26T03:03:49Z', 'user_id': 756331316, 'user_screen_name': 'adamjohnsonNYC', 'user_followers_count': 93101, 'retweet_count': 291, 'favorite_count': 5620}\n"
     ]
    }
   ],
   "source": [
    "for i in range(10):\n",
    "    raw_tweet = raw_json[i]\n",
    "    tweet = {}\n",
    "\n",
    "    tweet['collected_timestamp'] = collected_timestamp\n",
    "    tweet['text'] = raw_tweet.get('full_text') or raw_tweet.get('text')\n",
    "    tweet['id'] = raw_tweet['id']\n",
    "    tweet['created_at'] = parse(raw_tweet['created_at']).strftime('%Y-%m-%dT%H:%M:%SZ')\n",
    "    tweet['user_id'] = raw_tweet['user']['id']\n",
    "    tweet['user_screen_name'] = raw_tweet['user']['screen_name']\n",
    "    tweet['user_followers_count'] = raw_tweet['user']['followers_count']\n",
    "    tweet['retweet_count'] = raw_tweet['retweet_count']\n",
    "    tweet['favorite_count'] = raw_tweet['favorite_count']\n",
    "\n",
    "    print(tweet)"
   ]
  },
  {
   "cell_type": "code",
   "execution_count": 42,
   "metadata": {},
   "outputs": [
    {
     "data": {
      "text/plain": [
       "{'collected_timestamp': '2019-11-26T18:00:03Z',\n",
       " 'text': 'When you’re building ideas of your own and not just following one dogma or another, it can take a while to arrive w… https://t.co/Z3gfxJs59f',\n",
       " 'id': 1199161808432570368,\n",
       " 'created_at': '2019-11-26T03:03:49Z',\n",
       " 'user_id': 756331316,\n",
       " 'user_screen_name': 'adamjohnsonNYC',\n",
       " 'user_followers_count': 93101,\n",
       " 'retweet_count': 291,\n",
       " 'favorite_count': 5620}"
      ]
     },
     "execution_count": 42,
     "metadata": {},
     "output_type": "execute_result"
    }
   ],
   "source": [
    "tweet"
   ]
  },
  {
   "cell_type": "code",
   "execution_count": null,
   "metadata": {},
   "outputs": [],
   "source": []
  }
 ],
 "metadata": {
  "kernelspec": {
   "display_name": "Python 3",
   "language": "python",
   "name": "python3"
  },
  "language_info": {
   "codemirror_mode": {
    "name": "ipython",
    "version": 3
   },
   "file_extension": ".py",
   "mimetype": "text/x-python",
   "name": "python",
   "nbconvert_exporter": "python",
   "pygments_lexer": "ipython3",
   "version": "3.7.0"
  }
 },
 "nbformat": 4,
 "nbformat_minor": 4
}
