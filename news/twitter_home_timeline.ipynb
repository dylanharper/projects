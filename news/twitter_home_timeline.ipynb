{
 "cells": [
  {
   "cell_type": "code",
   "execution_count": 8,
   "metadata": {},
   "outputs": [],
   "source": [
    "from google.cloud import storage\n",
    "import json\n",
    "from dateutil.parser import parse\n",
    "import pandas as pd"
   ]
  },
  {
   "cell_type": "code",
   "execution_count": 2,
   "metadata": {},
   "outputs": [
    {
     "name": "stderr",
     "output_type": "stream",
     "text": [
      "/home/dylan/anaconda3/lib/python3.7/site-packages/google/auth/_default.py:69: UserWarning: Your application has authenticated using end user credentials from Google Cloud SDK. We recommend that most server applications use service accounts instead. If your application continues to use end user credentials from Cloud SDK, you might receive a \"quota exceeded\" or \"API not enabled\" error. For more information about service accounts, see https://cloud.google.com/docs/authentication/\n",
      "  warnings.warn(_CLOUD_SDK_CREDENTIALS_WARNING)\n",
      "/home/dylan/anaconda3/lib/python3.7/site-packages/google/auth/_default.py:69: UserWarning: Your application has authenticated using end user credentials from Google Cloud SDK. We recommend that most server applications use service accounts instead. If your application continues to use end user credentials from Cloud SDK, you might receive a \"quota exceeded\" or \"API not enabled\" error. For more information about service accounts, see https://cloud.google.com/docs/authentication/\n",
      "  warnings.warn(_CLOUD_SDK_CREDENTIALS_WARNING)\n"
     ]
    },
    {
     "data": {
      "text/plain": [
       "b'[{\"created_at\":\"Wed Nov 27 06:59:32 +0000 2019\",\"id\":1199583516561817600,\"id_str\":\"1199583516561817600\",\"full_text\":\"RT @CharlotteAlter: Pete called the writer who wrote that viral essay, and @michaelharriot  wrote a follow-up about their conversation. It\\'\\\\u2026\",\"truncated\":false,\"display_text_range\":[0,140],\"entities\":{\"hashtags\":[],\"symbols\":[],\"user_mentions\":[{\"screen_name\":\"CharlotteAlter\",\"name\":\"Charlotte Alter\",\"id\":774510134,\"id_str\":\"774510134\",\"indices\":[3,18]},{\"screen_name\":\"michaelharriot\",\"name\":\"michaelharriot\",\"id\":96149284,\"id_str\":\"96149284\",\"indices\":[75,90]}],\"urls\":[]},\"source\":\"\\\\u003ca href=\\\\\"https:\\\\/\\\\/twitterrific.com\\\\/ios\\\\\" rel=\\\\\"nofollow\\\\\"\\\\u003eTwitterrific for iOS\\\\u003c\\\\/a\\\\u003e\",\"in_reply_to_status_id\":null,\"in_reply_to_status_id_str\":null,\"in_reply_to_user_id\":null,\"in_reply_to_user_id_str\":null,\"in_reply_to_screen_name\":null,\"user\":{\"id\":715073,\"id_str\":\"715073\",\"name\":\"Alpha Chen\",\"screen_name\":\"kejadlen\",\"location\":\"\",\"description\":\"he\\\\/him\",\"url\":null,'"
      ]
     },
     "execution_count": 2,
     "metadata": {},
     "output_type": "execute_result"
    }
   ],
   "source": [
    "storage_client = storage.Client()\n",
    "bucket = storage_client.bucket('dotufp-raw')\n",
    "blob_name = 'twitter_home_timeline/dotufp/2019-11-27T07:00:02Z.raw'\n",
    "collected_timestamp = '2019-11-27T07:00:02Z'\n",
    "blob = bucket.blob(blob_name)\n",
    "raw_str = blob.download_as_string()\n",
    "\n",
    "raw_str[:1000]"
   ]
  },
  {
   "cell_type": "code",
   "execution_count": 3,
   "metadata": {},
   "outputs": [
    {
     "data": {
      "text/plain": [
       "(100,\n",
       " dict_keys(['created_at', 'id', 'id_str', 'full_text', 'truncated', 'display_text_range', 'entities', 'source', 'in_reply_to_status_id', 'in_reply_to_status_id_str', 'in_reply_to_user_id', 'in_reply_to_user_id_str', 'in_reply_to_screen_name', 'user', 'geo', 'coordinates', 'place', 'contributors', 'retweeted_status', 'is_quote_status', 'retweet_count', 'favorite_count', 'favorited', 'retweeted', 'lang']))"
      ]
     },
     "execution_count": 3,
     "metadata": {},
     "output_type": "execute_result"
    }
   ],
   "source": [
    "raw_json = json.loads(raw_str)\n",
    "\n",
    "len(raw_json), raw_json[0].keys()"
   ]
  },
  {
   "cell_type": "code",
   "execution_count": 4,
   "metadata": {
    "collapsed": true,
    "jupyter": {
     "outputs_hidden": true
    }
   },
   "outputs": [
    {
     "data": {
      "text/plain": [
       "{'created_at': 'Wed Nov 27 06:44:37 +0000 2019',\n",
       " 'id': 1199579762009788416,\n",
       " 'id_str': '1199579762009788416',\n",
       " 'full_text': 'You chitter at the other raccoon. They chitter back. Their name is Zorro. They reach down to pull you up onto the top of the fire engine.\\n\\nYou are on top of a fire engine. Zorro the raccoon is here. You see a ladder and a firefighter helmet.\\n\\nYour whiskers have cream on them.',\n",
       " 'truncated': False,\n",
       " 'display_text_range': [0, 276],\n",
       " 'entities': {'hashtags': [], 'symbols': [], 'user_mentions': [], 'urls': []},\n",
       " 'source': '<a href=\"https://mobile.twitter.com\" rel=\"nofollow\">Twitter Web App</a>',\n",
       " 'in_reply_to_status_id': 1199492065958277120,\n",
       " 'in_reply_to_status_id_str': '1199492065958277120',\n",
       " 'in_reply_to_user_id': 21604764,\n",
       " 'in_reply_to_user_id_str': '21604764',\n",
       " 'in_reply_to_screen_name': 'JoeSondow',\n",
       " 'user': {'id': 21604764,\n",
       "  'id_str': '21604764',\n",
       "  'name': 'Joe Sondow',\n",
       "  'screen_name': 'JoeSondow',\n",
       "  'location': 'Bay Area, California',\n",
       "  'description': '🕺🏻 He/Him 🎬 Twitch: https://t.co/8YwJXfyIHV 🎲 Boardgames, TTRPG, LARP 👨🏻\\u200d🦲 @PicardTips 🧔🏻 @RikerGoogling 🧱 @EmojiTetra 🌸 @EmojiMeadow 🐠 @EmojiAquarium',\n",
       "  'url': 'https://t.co/I8qlXalCSp',\n",
       "  'entities': {'url': {'urls': [{'url': 'https://t.co/I8qlXalCSp',\n",
       "      'expanded_url': 'http://patreon.com/JoeSondow',\n",
       "      'display_url': 'patreon.com/JoeSondow',\n",
       "      'indices': [0, 23]}]},\n",
       "   'description': {'urls': [{'url': 'https://t.co/8YwJXfyIHV',\n",
       "      'expanded_url': 'http://twitch.tv/JoeSondow',\n",
       "      'display_url': 'twitch.tv/JoeSondow',\n",
       "      'indices': [20, 43]}]}},\n",
       "  'protected': False,\n",
       "  'followers_count': 9387,\n",
       "  'friends_count': 398,\n",
       "  'listed_count': 258,\n",
       "  'created_at': 'Sun Feb 22 22:17:20 +0000 2009',\n",
       "  'favourites_count': 256947,\n",
       "  'utc_offset': None,\n",
       "  'time_zone': None,\n",
       "  'geo_enabled': False,\n",
       "  'verified': False,\n",
       "  'statuses_count': 100962,\n",
       "  'lang': None,\n",
       "  'contributors_enabled': False,\n",
       "  'is_translator': False,\n",
       "  'is_translation_enabled': False,\n",
       "  'profile_background_color': 'C0DEED',\n",
       "  'profile_background_image_url': 'http://abs.twimg.com/images/themes/theme1/bg.png',\n",
       "  'profile_background_image_url_https': 'https://abs.twimg.com/images/themes/theme1/bg.png',\n",
       "  'profile_background_tile': False,\n",
       "  'profile_image_url': 'http://pbs.twimg.com/profile_images/1189367881533812737/KBWmudK3_normal.jpg',\n",
       "  'profile_image_url_https': 'https://pbs.twimg.com/profile_images/1189367881533812737/KBWmudK3_normal.jpg',\n",
       "  'profile_banner_url': 'https://pbs.twimg.com/profile_banners/21604764/1535269766',\n",
       "  'profile_link_color': '1DA1F2',\n",
       "  'profile_sidebar_border_color': 'C0DEED',\n",
       "  'profile_sidebar_fill_color': 'DDEEF6',\n",
       "  'profile_text_color': '333333',\n",
       "  'profile_use_background_image': True,\n",
       "  'has_extended_profile': True,\n",
       "  'default_profile': True,\n",
       "  'default_profile_image': False,\n",
       "  'can_media_tag': False,\n",
       "  'followed_by': False,\n",
       "  'following': True,\n",
       "  'follow_request_sent': False,\n",
       "  'notifications': False,\n",
       "  'translator_type': 'regular'},\n",
       " 'geo': None,\n",
       " 'coordinates': None,\n",
       " 'place': None,\n",
       " 'contributors': None,\n",
       " 'is_quote_status': False,\n",
       " 'retweet_count': 7,\n",
       " 'favorite_count': 17,\n",
       " 'favorited': False,\n",
       " 'retweeted': False,\n",
       " 'lang': 'en'}"
      ]
     },
     "execution_count": 4,
     "metadata": {},
     "output_type": "execute_result"
    }
   ],
   "source": [
    "raw_json[1]"
   ]
  },
  {
   "cell_type": "code",
   "execution_count": 9,
   "metadata": {},
   "outputs": [],
   "source": [
    "tweets = []\n",
    "\n",
    "for i in range(10):\n",
    "    raw_tweet = raw_json[i]\n",
    "    tweet = {}\n",
    "\n",
    "    tweet['collected_timestamp'] = collected_timestamp\n",
    "    tweet['text'] = raw_tweet.get('full_text') or raw_json[0].get('text')\n",
    "    tweet['id'] = raw_tweet['id']\n",
    "    tweet['created_at'] = parse(raw_tweet['created_at']).strftime('%Y-%m-%dT%H:%M:%SZ')\n",
    "    tweet['user_id'] = raw_tweet['user']['id']\n",
    "    tweet['user_screen_name'] = raw_tweet['user']['screen_name']\n",
    "    tweet['user_followers_count'] = raw_tweet['user']['followers_count']\n",
    "    tweet['retweet_count'] = raw_tweet['retweet_count']\n",
    "    tweet['favorite_count'] = raw_tweet['favorite_count']\n",
    "\n",
    "    tweets.append(tweet)\n",
    "    \n",
    "tweets_df = pd.DataFrame(tweets)"
   ]
  },
  {
   "cell_type": "code",
   "execution_count": 6,
   "metadata": {},
   "outputs": [
    {
     "data": {
      "text/plain": [
       "{'collected_timestamp': '2019-11-27T07:00:02Z',\n",
       " 'text': \"RT @AccessibleProd: @GailSimone Gail... I have around $9,000 left to be debt free, I'm in need of help &amp; I feel like giving up on everythin…\",\n",
       " 'id': 1199575857167130624,\n",
       " 'created_at': '2019-11-27T06:29:06Z',\n",
       " 'user_id': 16024323,\n",
       " 'user_screen_name': 'GailSimone',\n",
       " 'user_followers_count': 145619,\n",
       " 'retweet_count': 5,\n",
       " 'favorite_count': 0}"
      ]
     },
     "execution_count": 6,
     "metadata": {},
     "output_type": "execute_result"
    }
   ],
   "source": [
    "tweet"
   ]
  },
  {
   "cell_type": "code",
   "execution_count": 10,
   "metadata": {},
   "outputs": [
    {
     "data": {
      "text/html": [
       "<div>\n",
       "<style scoped>\n",
       "    .dataframe tbody tr th:only-of-type {\n",
       "        vertical-align: middle;\n",
       "    }\n",
       "\n",
       "    .dataframe tbody tr th {\n",
       "        vertical-align: top;\n",
       "    }\n",
       "\n",
       "    .dataframe thead th {\n",
       "        text-align: right;\n",
       "    }\n",
       "</style>\n",
       "<table border=\"1\" class=\"dataframe\">\n",
       "  <thead>\n",
       "    <tr style=\"text-align: right;\">\n",
       "      <th></th>\n",
       "      <th>collected_timestamp</th>\n",
       "      <th>text</th>\n",
       "      <th>id</th>\n",
       "      <th>created_at</th>\n",
       "      <th>user_id</th>\n",
       "      <th>user_screen_name</th>\n",
       "      <th>user_followers_count</th>\n",
       "      <th>retweet_count</th>\n",
       "      <th>favorite_count</th>\n",
       "    </tr>\n",
       "  </thead>\n",
       "  <tbody>\n",
       "    <tr>\n",
       "      <th>0</th>\n",
       "      <td>2019-11-27T07:00:02Z</td>\n",
       "      <td>RT @CharlotteAlter: Pete called the writer who...</td>\n",
       "      <td>1199583516561817600</td>\n",
       "      <td>2019-11-27T06:59:32Z</td>\n",
       "      <td>715073</td>\n",
       "      <td>kejadlen</td>\n",
       "      <td>589</td>\n",
       "      <td>576</td>\n",
       "      <td>0</td>\n",
       "    </tr>\n",
       "    <tr>\n",
       "      <th>1</th>\n",
       "      <td>2019-11-27T07:00:02Z</td>\n",
       "      <td>You chitter at the other raccoon. They chitter...</td>\n",
       "      <td>1199579762009788416</td>\n",
       "      <td>2019-11-27T06:44:37Z</td>\n",
       "      <td>21604764</td>\n",
       "      <td>JoeSondow</td>\n",
       "      <td>9387</td>\n",
       "      <td>7</td>\n",
       "      <td>17</td>\n",
       "    </tr>\n",
       "    <tr>\n",
       "      <th>2</th>\n",
       "      <td>2019-11-27T07:00:02Z</td>\n",
       "      <td>◽◽◽👔◽◽◽\\n◽◽◽👔👔◽◽　Next\\n◽◽◽👔◽◽◽　👘\\n◽◽◽◽◽◽◽　👘\\n◽...</td>\n",
       "      <td>1199579299856048128</td>\n",
       "      <td>2019-11-27T06:42:46Z</td>\n",
       "      <td>842095599100997636</td>\n",
       "      <td>EmojiTetra</td>\n",
       "      <td>13923</td>\n",
       "      <td>0</td>\n",
       "      <td>2</td>\n",
       "    </tr>\n",
       "    <tr>\n",
       "      <th>3</th>\n",
       "      <td>2019-11-27T07:00:02Z</td>\n",
       "      <td>RT @tayziken: one of the funniest things in th...</td>\n",
       "      <td>1199577680749846530</td>\n",
       "      <td>2019-11-27T06:36:20Z</td>\n",
       "      <td>14794913</td>\n",
       "      <td>AthertonKD</td>\n",
       "      <td>27016</td>\n",
       "      <td>13712</td>\n",
       "      <td>0</td>\n",
       "    </tr>\n",
       "    <tr>\n",
       "      <th>4</th>\n",
       "      <td>2019-11-27T07:00:02Z</td>\n",
       "      <td>draft dump — women with potatoes edition https...</td>\n",
       "      <td>1199577198392274946</td>\n",
       "      <td>2019-11-27T06:34:25Z</td>\n",
       "      <td>51752499</td>\n",
       "      <td>House_Feminist</td>\n",
       "      <td>32165</td>\n",
       "      <td>0</td>\n",
       "      <td>16</td>\n",
       "    </tr>\n",
       "    <tr>\n",
       "      <th>5</th>\n",
       "      <td>2019-11-27T07:00:02Z</td>\n",
       "      <td>RT @jtag10: star trek’s continual return to ea...</td>\n",
       "      <td>1199576655884218368</td>\n",
       "      <td>2019-11-27T06:32:16Z</td>\n",
       "      <td>14794913</td>\n",
       "      <td>AthertonKD</td>\n",
       "      <td>27016</td>\n",
       "      <td>542</td>\n",
       "      <td>0</td>\n",
       "    </tr>\n",
       "    <tr>\n",
       "      <th>6</th>\n",
       "      <td>2019-11-27T07:00:02Z</td>\n",
       "      <td>RT @emontoya42: I'm starting to think Gail is ...</td>\n",
       "      <td>1199576493879222272</td>\n",
       "      <td>2019-11-27T06:31:37Z</td>\n",
       "      <td>16024323</td>\n",
       "      <td>GailSimone</td>\n",
       "      <td>145619</td>\n",
       "      <td>1</td>\n",
       "      <td>0</td>\n",
       "    </tr>\n",
       "    <tr>\n",
       "      <th>7</th>\n",
       "      <td>2019-11-27T07:00:02Z</td>\n",
       "      <td>RT @BuildSoil: Imagine Carbon is kids at a par...</td>\n",
       "      <td>1199576271291764736</td>\n",
       "      <td>2019-11-27T06:30:44Z</td>\n",
       "      <td>14794913</td>\n",
       "      <td>AthertonKD</td>\n",
       "      <td>27016</td>\n",
       "      <td>9</td>\n",
       "      <td>0</td>\n",
       "    </tr>\n",
       "    <tr>\n",
       "      <th>8</th>\n",
       "      <td>2019-11-27T07:00:02Z</td>\n",
       "      <td>RT @BuildSoil: Active Storage means the few ho...</td>\n",
       "      <td>1199576234843197441</td>\n",
       "      <td>2019-11-27T06:30:36Z</td>\n",
       "      <td>14794913</td>\n",
       "      <td>AthertonKD</td>\n",
       "      <td>27016</td>\n",
       "      <td>6</td>\n",
       "      <td>0</td>\n",
       "    </tr>\n",
       "    <tr>\n",
       "      <th>9</th>\n",
       "      <td>2019-11-27T07:00:02Z</td>\n",
       "      <td>RT @AccessibleProd: @GailSimone Gail... I have...</td>\n",
       "      <td>1199575857167130624</td>\n",
       "      <td>2019-11-27T06:29:06Z</td>\n",
       "      <td>16024323</td>\n",
       "      <td>GailSimone</td>\n",
       "      <td>145619</td>\n",
       "      <td>5</td>\n",
       "      <td>0</td>\n",
       "    </tr>\n",
       "  </tbody>\n",
       "</table>\n",
       "</div>"
      ],
      "text/plain": [
       "    collected_timestamp                                               text  \\\n",
       "0  2019-11-27T07:00:02Z  RT @CharlotteAlter: Pete called the writer who...   \n",
       "1  2019-11-27T07:00:02Z  You chitter at the other raccoon. They chitter...   \n",
       "2  2019-11-27T07:00:02Z  ◽◽◽👔◽◽◽\\n◽◽◽👔👔◽◽　Next\\n◽◽◽👔◽◽◽　👘\\n◽◽◽◽◽◽◽　👘\\n◽...   \n",
       "3  2019-11-27T07:00:02Z  RT @tayziken: one of the funniest things in th...   \n",
       "4  2019-11-27T07:00:02Z  draft dump — women with potatoes edition https...   \n",
       "5  2019-11-27T07:00:02Z  RT @jtag10: star trek’s continual return to ea...   \n",
       "6  2019-11-27T07:00:02Z  RT @emontoya42: I'm starting to think Gail is ...   \n",
       "7  2019-11-27T07:00:02Z  RT @BuildSoil: Imagine Carbon is kids at a par...   \n",
       "8  2019-11-27T07:00:02Z  RT @BuildSoil: Active Storage means the few ho...   \n",
       "9  2019-11-27T07:00:02Z  RT @AccessibleProd: @GailSimone Gail... I have...   \n",
       "\n",
       "                    id            created_at             user_id  \\\n",
       "0  1199583516561817600  2019-11-27T06:59:32Z              715073   \n",
       "1  1199579762009788416  2019-11-27T06:44:37Z            21604764   \n",
       "2  1199579299856048128  2019-11-27T06:42:46Z  842095599100997636   \n",
       "3  1199577680749846530  2019-11-27T06:36:20Z            14794913   \n",
       "4  1199577198392274946  2019-11-27T06:34:25Z            51752499   \n",
       "5  1199576655884218368  2019-11-27T06:32:16Z            14794913   \n",
       "6  1199576493879222272  2019-11-27T06:31:37Z            16024323   \n",
       "7  1199576271291764736  2019-11-27T06:30:44Z            14794913   \n",
       "8  1199576234843197441  2019-11-27T06:30:36Z            14794913   \n",
       "9  1199575857167130624  2019-11-27T06:29:06Z            16024323   \n",
       "\n",
       "  user_screen_name  user_followers_count  retweet_count  favorite_count  \n",
       "0         kejadlen                   589            576               0  \n",
       "1        JoeSondow                  9387              7              17  \n",
       "2       EmojiTetra                 13923              0               2  \n",
       "3       AthertonKD                 27016          13712               0  \n",
       "4   House_Feminist                 32165              0              16  \n",
       "5       AthertonKD                 27016            542               0  \n",
       "6       GailSimone                145619              1               0  \n",
       "7       AthertonKD                 27016              9               0  \n",
       "8       AthertonKD                 27016              6               0  \n",
       "9       GailSimone                145619              5               0  "
      ]
     },
     "execution_count": 10,
     "metadata": {},
     "output_type": "execute_result"
    }
   ],
   "source": [
    "tweets_df"
   ]
  },
  {
   "cell_type": "code",
   "execution_count": null,
   "metadata": {},
   "outputs": [],
   "source": []
  }
 ],
 "metadata": {
  "kernelspec": {
   "display_name": "Python 3",
   "language": "python",
   "name": "python3"
  },
  "language_info": {
   "codemirror_mode": {
    "name": "ipython",
    "version": 3
   },
   "file_extension": ".py",
   "mimetype": "text/x-python",
   "name": "python",
   "nbconvert_exporter": "python",
   "pygments_lexer": "ipython3",
   "version": "3.7.0"
  }
 },
 "nbformat": 4,
 "nbformat_minor": 4
}
